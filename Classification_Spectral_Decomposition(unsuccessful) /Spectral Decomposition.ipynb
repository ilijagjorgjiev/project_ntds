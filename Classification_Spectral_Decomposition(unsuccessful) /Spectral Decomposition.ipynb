{
 "cells": [
  {
   "cell_type": "code",
   "execution_count": null,
   "metadata": {},
   "outputs": [],
   "source": [
    "import numpy as np\n",
    "import pandas as pd\n",
    "import scipy.sparse  as sp\n",
    "from scipy.sparse.linalg import eigsh\n",
    "\n",
    "#Location of the data_folder \n",
    "data_folder      =\"/nvme/drive_1/NTDS_Final/\"\n",
    "num_eigenvectors = 100"
   ]
  },
  {
   "cell_type": "markdown",
   "metadata": {},
   "source": [
    "** I. Calculate Laplacian ** "
   ]
  },
  {
   "cell_type": "code",
   "execution_count": null,
   "metadata": {
    "scrolled": true
   },
   "outputs": [],
   "source": [
    "adj                  = sp.load_npz(data_folder+\"new_filtering/adjacency_5.npz\")\n",
    "n_nodes              = adj.shape[0]\n",
    "\n",
    "\n",
    "degrees                  = adj.sum(0)\n",
    "degree_matrix            = sp.spdiags(degrees,[0],n_nodes,n_nodes)\n",
    "degree_matrix            = sp.csr_matrix(degree_matrix,degree_matrix.shape,dtype=np.float16)\n",
    "laplacian_combinatorial  = degree_matrix - adj\n",
    "newD                     = sp.spdiags(1/np.sqrt(degrees),[0],degrees.size,degrees.size)\n",
    "normalized_laplacian     = ((newD @ laplacian_combinatorial) @ newD)\n",
    "\n",
    "sp.save_npz(data_folder+\"new_filtering/laplacian.npz\",normalized_laplacian)"
   ]
  },
  {
   "cell_type": "markdown",
   "metadata": {},
   "source": [
    "** II. Calculate Eigen Decomposition ** "
   ]
  },
  {
   "cell_type": "code",
   "execution_count": null,
   "metadata": {},
   "outputs": [],
   "source": [
    "normalized_laplacian = sp.load_npz(data_folder+\"new_filtering/laplacian.npz\")\n",
    "values, vectors      = eigsh(normalized_laplacian, k=num_eigenvectors, which='LM')\n"
   ]
  },
  {
   "cell_type": "code",
   "execution_count": null,
   "metadata": {},
   "outputs": [],
   "source": [
    "np.save(data_folder+\"new_filtering/e_vectors.npy\",vectors)\n",
    "np.save(data_folder+\"new_filtering/e_values.npy\",values)"
   ]
  },
  {
   "cell_type": "markdown",
   "metadata": {},
   "source": [
    "** III. Project Laplacian Column onto EigenVectors for Features  ** "
   ]
  },
  {
   "cell_type": "code",
   "execution_count": null,
   "metadata": {},
   "outputs": [],
   "source": [
    "normalized_laplacian   = sp.load_npz(data_folder+\"new_filtering/laplacian.npz\")\n",
    "adj                  = sp.load_npz(data_folder+\"new_filtering/adjacency_5.npz\")\n",
    "vectors = np.load(data_folder+\"new_filtering/e_vectors.npy\")\n",
    "values  = np.load(data_folder+\"new_filtering/e_values.npy\")\n",
    "\n",
    "# Vectors.T is (100 * N), Laplacian is (N * N)\n",
    "features = vectors.T @ adj\n",
    "np.save(data_folder+\"new_filtering/features.npy\",features.T)"
   ]
  },
  {
   "cell_type": "code",
   "execution_count": null,
   "metadata": {},
   "outputs": [],
   "source": []
  }
 ],
 "metadata": {
  "kernelspec": {
   "display_name": "python3",
   "language": "python",
   "name": "python3"
  },
  "language_info": {
   "codemirror_mode": {
    "name": "ipython",
    "version": 3
   },
   "file_extension": ".py",
   "mimetype": "text/x-python",
   "name": "python",
   "nbconvert_exporter": "python",
   "pygments_lexer": "ipython3",
   "version": "3.6.7"
  }
 },
 "nbformat": 4,
 "nbformat_minor": 2
}
